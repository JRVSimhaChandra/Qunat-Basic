{
 "cells": [
  {
   "cell_type": "code",
   "execution_count": 3,
   "id": "9b4c7fb7-9699-4d79-b185-a414582183a8",
   "metadata": {},
   "outputs": [],
   "source": [
    "def f(x, y) :\n",
    "    return x + 2*y"
   ]
  },
  {
   "cell_type": "code",
   "execution_count": 4,
   "id": "30353b10-e22d-4066-9a24-cda4182d134d",
   "metadata": {},
   "outputs": [
    {
     "data": {
      "text/plain": [
       "8"
      ]
     },
     "execution_count": 4,
     "metadata": {},
     "output_type": "execute_result"
    }
   ],
   "source": [
    "a = 4\n",
    "b = 2\n",
    "f(a, b)"
   ]
  },
  {
   "cell_type": "code",
   "execution_count": 5,
   "id": "90e47c98-441c-403e-8560-758437026f4a",
   "metadata": {},
   "outputs": [
    {
     "name": "stdout",
     "output_type": "stream",
     "text": [
      "4\n",
      "2\n",
      "10\n"
     ]
    }
   ],
   "source": [
    "print(a)\n",
    "print(b)\n",
    "print(f(b, a))"
   ]
  },
  {
   "cell_type": "code",
   "execution_count": 6,
   "id": "08a604e7-2fa8-43f9-a694-0466c3adbb8f",
   "metadata": {},
   "outputs": [
    {
     "data": {
      "text/html": [
       "<div>\n",
       "<style scoped>\n",
       "    .dataframe tbody tr th:only-of-type {\n",
       "        vertical-align: middle;\n",
       "    }\n",
       "\n",
       "    .dataframe tbody tr th {\n",
       "        vertical-align: top;\n",
       "    }\n",
       "\n",
       "    .dataframe thead th {\n",
       "        text-align: right;\n",
       "    }\n",
       "</style>\n",
       "<table border=\"1\" class=\"dataframe\">\n",
       "  <thead>\n",
       "    <tr style=\"text-align: right;\">\n",
       "      <th></th>\n",
       "      <th>foo</th>\n",
       "      <th>bar</th>\n",
       "    </tr>\n",
       "  </thead>\n",
       "  <tbody>\n",
       "    <tr>\n",
       "      <th>0</th>\n",
       "      <td>1</td>\n",
       "      <td>a</td>\n",
       "    </tr>\n",
       "    <tr>\n",
       "      <th>1</th>\n",
       "      <td>2</td>\n",
       "      <td>b</td>\n",
       "    </tr>\n",
       "    <tr>\n",
       "      <th>2</th>\n",
       "      <td>3</td>\n",
       "      <td>c</td>\n",
       "    </tr>\n",
       "  </tbody>\n",
       "</table>\n",
       "</div>"
      ],
      "text/plain": [
       "   foo bar\n",
       "0    1   a\n",
       "1    2   b\n",
       "2    3   c"
      ]
     },
     "execution_count": 6,
     "metadata": {},
     "output_type": "execute_result"
    }
   ],
   "source": [
    "import pandas as pd\n",
    "pd.DataFrame({ 'foo': [1,2,3], 'bar': ['a','b','c'] })"
   ]
  },
  {
   "cell_type": "code",
   "execution_count": 15,
   "id": "d65190a6-6f75-4280-b229-b1e539734ed1",
   "metadata": {
    "scrolled": true
   },
   "outputs": [
    {
     "data": {
      "image/png": "[encoded data removed]",
      "text/plain": [
       "<Figure size 1000x200 with 1 Axes>"
      ]
     },
     "metadata": {},
     "output_type": "display_data"
    }
   ],
   "source": [
    "import matplotlib.pyplot as plt\n",
    "import numpy as np\n",
    "\n",
    "def custom_plot(data, figsize=(10, 2)):\n",
    "    fig, ax = plt.subplots(figsize=figsize)\n",
    "    ax.plot(data)\n",
    "    plt.show()\n",
    "\n",
    "# Example usage\n",
    "custom_plot([0, 0.25, 0.5, 0.75, 1.0], figsize=(10, 2))\n",
    "\n"
   ]
  },
  {
   "cell_type": "code",
   "execution_count": 18,
   "id": "5d866854-af6a-42e6-abeb-bf1fe17d1187",
   "metadata": {},
   "outputs": [
    {
     "data": {
      "image/png": "[encoded data removed]",
      "text/plain": [
       "<Figure size 1000x200 with 1 Axes>"
      ]
     },
     "metadata": {},
     "output_type": "display_data"
    }
   ],
   "source": [
    "import matplotlib.pyplot as plt\n",
    "import numpy as np\n",
    "\n",
    "# Corrected function\n",
    "def custom_plot(data, figsize=(10, 2)):\n",
    "    fig, ax = plt.subplots(figsize=figsize)\n",
    "    ax.plot(data)\n",
    "    plt.show()\n",
    "\n",
    "# Example usage\n",
    "custom_plot([0, 0.25, 0.5, 0.75, 1.0], figsize=(10, 2))\n"
   ]
  },
  {
   "cell_type": "code",
   "execution_count": 20,
   "id": "4f7b2a09-080a-4e14-87dd-3ad9f2ac8dd3",
   "metadata": {},
   "outputs": [
    {
     "name": "stdout",
     "output_type": "stream",
     "text": [
      "Defaulting to user installation because normal site-packages is not writeable\n",
      "Collecting QuantLib\n",
      "  Downloading QuantLib-1.35-cp38-abi3-win_amd64.whl.metadata (1.1 kB)\n",
      "Downloading QuantLib-1.35-cp38-abi3-win_amd64.whl (12.5 MB)\n",
      "   ---------------------------------------- 0.0/12.5 MB ? eta -:--:--\n",
      "   ---------------------------------------- 0.0/12.5 MB ? eta -:--:--\n",
      "   ---------------------------------------- 0.0/12.5 MB ? eta -:--:--\n",
      "   ---------------------------------------- 0.0/12.5 MB ? eta -:--:--\n",
      "   ---------------------------------------- 0.0/12.5 MB ? eta -:--:--\n",
      "   ---------------------------------------- 0.0/12.5 MB ? eta -:--:--\n",
      "   ---------------------------------------- 0.0/12.5 MB 109.5 kB/s eta 0:01:55\n",
      "   ---------------------------------------- 0.0/12.5 MB 122.9 kB/s eta 0:01:42\n",
      "   ---------------------------------------- 0.1/12.5 MB 182.2 kB/s eta 0:01:09\n",
      "   ---------------------------------------- 0.1/12.5 MB 298.5 kB/s eta 0:00:42\n",
      "    --------------------------------------- 0.2/12.5 MB 472.6 kB/s eta 0:00:27\n",
      "    --------------------------------------- 0.3/12.5 MB 703.7 kB/s eta 0:00:18\n",
      "   - -------------------------------------- 0.5/12.5 MB 1.1 MB/s eta 0:00:12\n",
      "   -- ------------------------------------- 0.8/12.5 MB 1.4 MB/s eta 0:00:09\n",
      "   --- ------------------------------------ 1.1/12.5 MB 1.8 MB/s eta 0:00:07\n",
      "   --- ------------------------------------ 1.1/12.5 MB 1.8 MB/s eta 0:00:07\n",
      "   --- ------------------------------------ 1.1/12.5 MB 1.8 MB/s eta 0:00:07\n",
      "   --- ------------------------------------ 1.1/12.5 MB 1.5 MB/s eta 0:00:08\n",
      "   ---- ----------------------------------- 1.5/12.5 MB 2.0 MB/s eta 0:00:06\n",
      "   ---- ----------------------------------- 1.5/12.5 MB 2.0 MB/s eta 0:00:06\n",
      "   ------ --------------------------------- 2.2/12.5 MB 2.6 MB/s eta 0:00:04\n",
      "   -------- ------------------------------- 2.6/12.5 MB 2.8 MB/s eta 0:00:04\n",
      "   -------- ------------------------------- 2.7/12.5 MB 2.8 MB/s eta 0:00:04\n",
      "   --------- ------------------------------ 3.1/12.5 MB 3.0 MB/s eta 0:00:04\n",
      "   ---------- ----------------------------- 3.2/12.5 MB 3.1 MB/s eta 0:00:03\n",
      "   ---------- ----------------------------- 3.3/12.5 MB 3.1 MB/s eta 0:00:03\n",
      "   ---------- ----------------------------- 3.3/12.5 MB 3.1 MB/s eta 0:00:03\n",
      "   ---------- ----------------------------- 3.3/12.5 MB 3.1 MB/s eta 0:00:03\n",
      "   ----------- ---------------------------- 3.7/12.5 MB 3.1 MB/s eta 0:00:03\n",
      "   ------------- -------------------------- 4.3/12.5 MB 3.4 MB/s eta 0:00:03\n",
      "   -------------- ------------------------- 4.4/12.5 MB 3.3 MB/s eta 0:00:03\n",
      "   -------------- ------------------------- 4.5/12.5 MB 3.3 MB/s eta 0:00:03\n",
      "   -------------- ------------------------- 4.6/12.5 MB 3.3 MB/s eta 0:00:03\n",
      "   --------------- ------------------------ 4.8/12.5 MB 3.3 MB/s eta 0:00:03\n",
      "   --------------- ------------------------ 4.9/12.5 MB 3.3 MB/s eta 0:00:03\n",
      "   ---------------- ----------------------- 5.1/12.5 MB 3.3 MB/s eta 0:00:03\n",
      "   ---------------- ----------------------- 5.2/12.5 MB 3.3 MB/s eta 0:00:03\n",
      "   ----------------- ---------------------- 5.4/12.5 MB 3.3 MB/s eta 0:00:03\n",
      "   ----------------- ---------------------- 5.6/12.5 MB 3.3 MB/s eta 0:00:03\n",
      "   ------------------ --------------------- 5.7/12.5 MB 3.3 MB/s eta 0:00:03\n",
      "   ------------------ --------------------- 5.9/12.5 MB 3.3 MB/s eta 0:00:03\n",
      "   ------------------- -------------------- 6.1/12.5 MB 3.3 MB/s eta 0:00:02\n",
      "   ------------------- -------------------- 6.2/12.5 MB 3.3 MB/s eta 0:00:02\n",
      "   -------------------- ------------------- 6.4/12.5 MB 3.3 MB/s eta 0:00:02\n",
      "   -------------------- ------------------- 6.5/12.5 MB 3.3 MB/s eta 0:00:02\n",
      "   --------------------- ------------------ 6.7/12.5 MB 3.3 MB/s eta 0:00:02\n",
      "   --------------------- ------------------ 6.9/12.5 MB 3.3 MB/s eta 0:00:02\n",
      "   ---------------------- ----------------- 7.0/12.5 MB 3.3 MB/s eta 0:00:02\n",
      "   ---------------------- ----------------- 7.2/12.5 MB 3.3 MB/s eta 0:00:02\n",
      "   ----------------------- ---------------- 7.4/12.5 MB 3.4 MB/s eta 0:00:02\n",
      "   ------------------------ --------------- 7.5/12.5 MB 3.4 MB/s eta 0:00:02\n",
      "   ------------------------ --------------- 7.7/12.5 MB 3.4 MB/s eta 0:00:02\n",
      "   ------------------------- -------------- 7.9/12.5 MB 3.4 MB/s eta 0:00:02\n",
      "   ------------------------- -------------- 8.0/12.5 MB 3.4 MB/s eta 0:00:02\n",
      "   -------------------------- ------------- 8.2/12.5 MB 3.4 MB/s eta 0:00:02\n",
      "   -------------------------- ------------- 8.3/12.5 MB 3.4 MB/s eta 0:00:02\n",
      "   -------------------------- ------------- 8.4/12.5 MB 3.3 MB/s eta 0:00:02\n",
      "   --------------------------- ------------ 8.5/12.5 MB 3.3 MB/s eta 0:00:02\n",
      "   --------------------------- ------------ 8.5/12.5 MB 3.3 MB/s eta 0:00:02\n",
      "   --------------------------- ------------ 8.6/12.5 MB 3.2 MB/s eta 0:00:02\n",
      "   --------------------------- ------------ 8.7/12.5 MB 3.3 MB/s eta 0:00:02\n",
      "   ---------------------------- ----------- 8.8/12.5 MB 3.2 MB/s eta 0:00:02\n",
      "   ---------------------------- ----------- 9.0/12.5 MB 3.2 MB/s eta 0:00:02\n",
      "   ----------------------------- ---------- 9.2/12.5 MB 3.2 MB/s eta 0:00:02\n",
      "   ----------------------------- ---------- 9.3/12.5 MB 3.2 MB/s eta 0:00:02\n",
      "   ------------------------------ --------- 9.5/12.5 MB 3.2 MB/s eta 0:00:01\n",
      "   ------------------------------ --------- 9.7/12.5 MB 3.2 MB/s eta 0:00:01\n",
      "   ------------------------------- -------- 9.8/12.5 MB 3.2 MB/s eta 0:00:01\n",
      "   ------------------------------- -------- 10.0/12.5 MB 3.3 MB/s eta 0:00:01\n",
      "   ------------------------------- -------- 10.0/12.5 MB 3.2 MB/s eta 0:00:01\n",
      "   -------------------------------- ------- 10.2/12.5 MB 3.2 MB/s eta 0:00:01\n",
      "   -------------------------------- ------- 10.3/12.5 MB 3.5 MB/s eta 0:00:01\n",
      "   --------------------------------- ------ 10.5/12.5 MB 3.6 MB/s eta 0:00:01\n",
      "   --------------------------------- ------ 10.6/12.5 MB 3.6 MB/s eta 0:00:01\n",
      "   --------------------------------- ------ 10.6/12.5 MB 3.6 MB/s eta 0:00:01\n",
      "   ---------------------------------- ----- 10.7/12.5 MB 3.5 MB/s eta 0:00:01\n",
      "   ---------------------------------- ----- 10.9/12.5 MB 3.5 MB/s eta 0:00:01\n",
      "   ---------------------------------- ----- 11.0/12.5 MB 3.5 MB/s eta 0:00:01\n",
      "   ----------------------------------- ---- 11.1/12.5 MB 3.4 MB/s eta 0:00:01\n",
      "   ----------------------------------- ---- 11.2/12.5 MB 3.4 MB/s eta 0:00:01\n",
      "   ----------------------------------- ---- 11.3/12.5 MB 3.4 MB/s eta 0:00:01\n",
      "   ------------------------------------ --- 11.5/12.5 MB 3.5 MB/s eta 0:00:01\n",
      "   ------------------------------------ --- 11.6/12.5 MB 3.4 MB/s eta 0:00:01\n",
      "   ------------------------------------- -- 11.7/12.5 MB 3.4 MB/s eta 0:00:01\n",
      "   ------------------------------------- -- 11.9/12.5 MB 3.4 MB/s eta 0:00:01\n",
      "   -------------------------------------- - 12.1/12.5 MB 3.4 MB/s eta 0:00:01\n",
      "   -------------------------------------- - 12.2/12.5 MB 3.3 MB/s eta 0:00:01\n",
      "   ---------------------------------------  12.4/12.5 MB 3.3 MB/s eta 0:00:01\n",
      "   ---------------------------------------  12.5/12.5 MB 3.3 MB/s eta 0:00:01\n",
      "   ---------------------------------------  12.5/12.5 MB 3.3 MB/s eta 0:00:01\n",
      "   ---------------------------------------- 12.5/12.5 MB 3.2 MB/s eta 0:00:00\n",
      "Installing collected packages: QuantLib\n",
      "Successfully installed QuantLib-1.35\n"
     ]
    }
   ],
   "source": [
    "!pip install QuantLib\n",
    "from QuantLib import *\n",
    "import pandas as pd"
   ]
  },
  {
   "cell_type": "code",
   "execution_count": 21,
   "id": "7e2badf9-6ce4-40fe-aa71-f3f213959e12",
   "metadata": {},
   "outputs": [
    {
     "name": "stdout",
     "output_type": "stream",
     "text": [
      "March 31st, 2015\n"
     ]
    }
   ],
   "source": [
    "date = Date(31, 3, 2015)\n",
    "print(date)"
   ]
  },
  {
   "cell_type": "code",
   "execution_count": 22,
   "id": "2c293fbf-387f-4b97-b2c3-9b6dc9267bec",
   "metadata": {},
   "outputs": [
    {
     "name": "stdout",
     "output_type": "stream",
     "text": [
      "3-31-2015\n"
     ]
    }
   ],
   "source": [
    "print(\"%d-%d-%d\" %(date.month(),\n",
    "                   date.dayOfMonth(),\n",
    "                   date.year()))"
   ]
  },
  {
   "cell_type": "code",
   "execution_count": 23,
   "id": "748de70e-f387-46e9-a4ea-86b40503c641",
   "metadata": {},
   "outputs": [
    {
     "data": {
      "text/plain": [
       "True"
      ]
     },
     "execution_count": 23,
     "metadata": {},
     "output_type": "execute_result"
    }
   ],
   "source": [
    "date.weekday() == Tuesday"
   ]
  },
  {
   "cell_type": "code",
   "execution_count": 24,
   "id": "73b017a8-ee05-4e23-8c58-1e415e2a8273",
   "metadata": {},
   "outputs": [
    {
     "data": {
      "text/plain": [
       "QuantLib.QuantLib.Date"
      ]
     },
     "execution_count": 24,
     "metadata": {},
     "output_type": "execute_result"
    }
   ],
   "source": [
    "type(date+1)"
   ]
  },
  {
   "cell_type": "code",
   "execution_count": 25,
   "id": "a4bc323f-2e72-423f-a6d8-4c9dc46a689b",
   "metadata": {},
   "outputs": [
    {
     "name": "stdout",
     "output_type": "stream",
     "text": [
      "Add a day : April 1st, 2015\n",
      "Subtract a day : March 30th, 2015\n",
      "Add a week : April 7th, 2015\n",
      "Add a month : April 30th, 2015\n",
      "Add a year : March 31st, 2016\n"
     ]
    }
   ],
   "source": [
    "print(\"Add a day : {0}\".format(date + 1))\n",
    "print(\"Subtract a day : {0}\".format(date - 1))\n",
    "print(\"Add a week : {0}\".format(date + Period(1, Weeks)))\n",
    "print(\"Add a month : {0}\".format(date + Period(1, Months)))\n",
    "print(\"Add a year : {0}\".format(date + Period(1, Years)))\n"
   ]
  },
  {
   "cell_type": "code",
   "execution_count": 26,
   "id": "e9d29d1a-583a-4e59-ba60-b55ffdb3e39b",
   "metadata": {},
   "outputs": [
    {
     "name": "stdout",
     "output_type": "stream",
     "text": [
      "True\n",
      "True\n",
      "True\n",
      "True\n"
     ]
    }
   ],
   "source": [
    "print(date == Date(31, 3, 2015))\n",
    "print(date > Date(30, 3, 2015))\n",
    "print(date < Date(1, 4, 2015))\n",
    "print(date != Date(1, 4, 2015))"
   ]
  },
  {
   "cell_type": "code",
   "execution_count": null,
   "id": "1d877e01-efbf-47ff-bfaf-7eab2fa8fb7a",
   "metadata": {},
   "outputs": [],
   "source": []
  }
 ],
 "metadata": {
  "kernelspec": {
   "display_name": "Python 3 (ipykernel)",
   "language": "python",
   "name": "python3"
  },
  "language_info": {
   "codemirror_mode": {
    "name": "ipython",
    "version": 3
   },
   "file_extension": ".py",
   "mimetype": "text/x-python",
   "name": "python",
   "nbconvert_exporter": "python",
   "pygments_lexer": "ipython3",
   "version": "3.12.4"
  }
 },
 "nbformat": 4,
 "nbformat_minor": 5
}
